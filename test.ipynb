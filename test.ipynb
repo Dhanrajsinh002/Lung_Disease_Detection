{
 "cells": [
  {
   "cell_type": "code",
   "execution_count": 6,
   "metadata": {},
   "outputs": [],
   "source": [
    "import pandas as pd\n",
    "import numpy as np\n",
    "import cv2\n",
    "import os\n",
    "import glob\n",
    "import matplotlib.pyplot as plt\n",
    "from sklearn.preprocessing import LabelEncoder\n",
    "from sklearn.model_selection import train_test_split\n",
    "from tensorflow.keras.utils import to_categorical\n",
    "from tensorflow.keras.preprocessing.image import ImageDataGenerator\n",
    "from tensorflow.keras.callbacks import EarlyStopping\n",
    "from sklearn.metrics import classification_report\n",
    "from tensorflow.keras.applications import ResNet50, VGG16\n",
    "from tensorflow.keras.models import Sequential\n",
    "from tensorflow.keras.layers import Conv2D, MaxPooling2D, Flatten, Dense, Dropout\n",
    "from tensorflow.keras.optimizers import Adam"
   ]
  },
  {
   "cell_type": "code",
   "execution_count": 27,
   "metadata": {},
   "outputs": [],
   "source": [
    "# Load your dataset here (replace with your data loading code)\n",
    "# Assuming you have a DataFrame 'data' with columns 'Filepath' and 'Label'\n",
    "# Load your dataset here (replace with your data loading code)\n",
    "file_path = \"D:\\Study Data\\ICT Degree 7th sem\\DL\\dataset\"\n",
    "name_class = os.listdir(file_path)\n",
    "filepaths = list(glob.glob(file_path+'/**/*.*'))\n",
    "labels = list(map(lambda x: os.path.split(os.path.split(x)[0])[1],filepaths))\n",
    "filepath = pd.Series(filepaths, name='Filepath').astype(str)\n",
    "labels = pd.Series(labels, name='Label')\n",
    "data = pd.concat([filepath, labels], axis=1)\n",
    "data = data.sample(frac=1).reset_index(drop=True)\n",
    "\n",
    "# Split the dataset into training and testing sets\n",
    "train, test = train_test_split(data, test_size=0.2, random_state=42)\n",
    "\n",
    "# Load the label encoder and fit it only on the training data\n",
    "label_encoder = LabelEncoder()\n",
    "label_encoder.fit(train['Label'])\n",
    "\n",
    "# Transform the test labels using the fitted label encoder\n",
    "test['Label'] = test['Label'].astype(str)"
   ]
  },
  {
   "cell_type": "code",
   "execution_count": 28,
   "metadata": {},
   "outputs": [
    {
     "name": "stdout",
     "output_type": "stream",
     "text": [
      "Found 5545 validated image filenames belonging to 5 classes.\n",
      "Found 1387 validated image filenames belonging to 5 classes.\n"
     ]
    }
   ],
   "source": [
    "# Data augmentation for training data\n",
    "train_datagen = ImageDataGenerator(\n",
    "    rescale=1.0/255,\n",
    "    rotation_range=20,\n",
    "    width_shift_range=0.2,\n",
    "    height_shift_range=0.2,\n",
    "    horizontal_flip=True,\n",
    "    fill_mode='nearest'\n",
    ")\n",
    "\n",
    "# Data augmentation for testing data (only rescaling)\n",
    "test_datagen = ImageDataGenerator(rescale=1.0/255)\n",
    "\n",
    "train_gen = train_datagen.flow_from_dataframe(\n",
    "    train,\n",
    "    x_col='Filepath',\n",
    "    y_col='Label',  # Use the original 'Label' column with string labels\n",
    "    target_size=(100, 100),\n",
    "    batch_size=32,\n",
    "    class_mode='categorical'\n",
    ")\n",
    "\n",
    "test_gen = test_datagen.flow_from_dataframe(\n",
    "    test,\n",
    "    x_col='Filepath',\n",
    "    y_col='Label',  # Use the original 'Label' column with string labels\n",
    "    target_size=(100, 100),\n",
    "    batch_size=32,\n",
    "    class_mode='categorical'\n",
    ")\n",
    "\n",
    "# Encode the labels for training\n",
    "label_encoder = LabelEncoder()\n",
    "train_gen.classes = label_encoder.fit_transform(train_gen.classes)\n",
    "test_gen.classes = label_encoder.transform(test_gen.classes)"
   ]
  },
  {
   "cell_type": "code",
   "execution_count": 29,
   "metadata": {},
   "outputs": [
    {
     "name": "stdout",
     "output_type": "stream",
     "text": [
      "Epoch 1/10\n",
      "174/174 [==============================] - 216s 1s/step - loss: 1.0793 - accuracy: 0.5621 - val_loss: 0.6870 - val_accuracy: 0.7275\n",
      "Epoch 2/10\n",
      "174/174 [==============================] - 123s 707ms/step - loss: 0.7211 - accuracy: 0.7253 - val_loss: 0.5759 - val_accuracy: 0.8161\n",
      "Epoch 3/10\n",
      "174/174 [==============================] - 116s 665ms/step - loss: 0.6603 - accuracy: 0.7504 - val_loss: 0.5994 - val_accuracy: 0.7729\n",
      "Epoch 4/10\n",
      "174/174 [==============================] - 114s 655ms/step - loss: 0.6378 - accuracy: 0.7591 - val_loss: 0.5436 - val_accuracy: 0.8133\n"
     ]
    }
   ],
   "source": [
    "# Define and compile the CNN model\n",
    "cnn_model = Sequential([\n",
    "    Conv2D(64, (3, 3), activation='relu', input_shape=(100, 100, 3)),\n",
    "    MaxPooling2D((2, 2)),\n",
    "    Conv2D(128, (3, 3), activation='relu'),\n",
    "    MaxPooling2D((2, 2)),\n",
    "    Flatten(),\n",
    "    Dense(len(label_encoder.classes_), activation='softmax')\n",
    "])\n",
    "\n",
    "cnn_model.compile(\n",
    "    optimizer=Adam(learning_rate=0.001),\n",
    "    loss='categorical_crossentropy',\n",
    "    metrics=['accuracy']\n",
    ")\n",
    "\n",
    "# Train the CNN model\n",
    "cnn_history = cnn_model.fit(\n",
    "    train_gen,\n",
    "    epochs=10,\n",
    "    validation_data=test_gen,\n",
    "    callbacks=[EarlyStopping(monitor='val_accuracy', min_delta=0, patience=2, mode='auto')]\n",
    ")"
   ]
  },
  {
   "cell_type": "code",
   "execution_count": 30,
   "metadata": {},
   "outputs": [],
   "source": [
    "# Define and compile the ResNet model\n",
    "resnet_model = ResNet50(\n",
    "    input_shape=(100, 100, 3),\n",
    "    include_top=False,\n",
    "    weights='imagenet',\n",
    "    pooling='avg'\n",
    ")\n",
    "\n",
    "for layer in resnet_model.layers:\n",
    "    layer.trainable = False\n",
    "\n",
    "resnet_model.layers[-1].trainable = True\n",
    "\n",
    "resnet_model = Sequential([resnet_model, Dense(len(label_encoder.classes_), activation='softmax')])\n",
    "\n",
    "resnet_model.compile(\n",
    "    optimizer=Adam(learning_rate=0.001),\n",
    "    loss='categorical_crossentropy',\n",
    "    metrics=['accuracy']\n",
    ")"
   ]
  },
  {
   "cell_type": "code",
   "execution_count": 31,
   "metadata": {},
   "outputs": [
    {
     "name": "stdout",
     "output_type": "stream",
     "text": [
      "Epoch 1/10\n",
      "174/174 [==============================] - 138s 772ms/step - loss: 1.3913 - accuracy: 0.3814 - val_loss: 1.2521 - val_accuracy: 0.5198\n",
      "Epoch 2/10\n",
      "174/174 [==============================] - 131s 753ms/step - loss: 1.2456 - accuracy: 0.4734 - val_loss: 1.1825 - val_accuracy: 0.5133\n",
      "Epoch 3/10\n",
      "174/174 [==============================] - 133s 766ms/step - loss: 1.1981 - accuracy: 0.4949 - val_loss: 1.1059 - val_accuracy: 0.5689\n",
      "Epoch 4/10\n",
      "174/174 [==============================] - 136s 777ms/step - loss: 1.1586 - accuracy: 0.5169 - val_loss: 1.0814 - val_accuracy: 0.5292\n",
      "Epoch 5/10\n",
      "174/174 [==============================] - 135s 776ms/step - loss: 1.1470 - accuracy: 0.5253 - val_loss: 1.0334 - val_accuracy: 0.5804\n",
      "Epoch 6/10\n",
      "174/174 [==============================] - 135s 779ms/step - loss: 1.1150 - accuracy: 0.5412 - val_loss: 1.0211 - val_accuracy: 0.6063\n",
      "Epoch 7/10\n",
      "174/174 [==============================] - 141s 809ms/step - loss: 1.1029 - accuracy: 0.5544 - val_loss: 0.9932 - val_accuracy: 0.6078\n",
      "Epoch 8/10\n",
      "174/174 [==============================] - 134s 768ms/step - loss: 1.1009 - accuracy: 0.5520 - val_loss: 1.0048 - val_accuracy: 0.5479\n",
      "Epoch 9/10\n",
      "174/174 [==============================] - 135s 776ms/step - loss: 1.0961 - accuracy: 0.5528 - val_loss: 0.9631 - val_accuracy: 0.6287\n",
      "Epoch 10/10\n",
      "174/174 [==============================] - 135s 776ms/step - loss: 1.0702 - accuracy: 0.5708 - val_loss: 0.9431 - val_accuracy: 0.6691\n"
     ]
    }
   ],
   "source": [
    "# Train the ResNet model\n",
    "resnet_history = resnet_model.fit(\n",
    "    train_gen,\n",
    "    epochs=10,\n",
    "    validation_data=test_gen,\n",
    "    callbacks=[EarlyStopping(monitor='val_accuracy', min_delta=0, patience=2, mode='auto')]\n",
    ")\n",
    "\n",
    "# Define and compile the VGG model\n",
    "vgg_model = VGG16(\n",
    "    input_shape=(100, 100, 3),\n",
    "    include_top=False,\n",
    "    weights='imagenet',\n",
    "    pooling='avg'\n",
    ")\n",
    "\n",
    "for layer in vgg_model.layers:\n",
    "    layer.trainable = False\n",
    "\n",
    "vgg_model.layers[-1].trainable = True\n",
    "\n",
    "vgg_model = Sequential([vgg_model, Dense(len(label_encoder.classes_), activation='softmax')])\n",
    "\n",
    "vgg_model.compile(\n",
    "    optimizer=Adam(learning_rate=0.001),\n",
    "    loss='categorical_crossentropy',\n",
    "    metrics=['accuracy']\n",
    ")"
   ]
  },
  {
   "cell_type": "code",
   "execution_count": 32,
   "metadata": {},
   "outputs": [
    {
     "name": "stdout",
     "output_type": "stream",
     "text": [
      "Epoch 1/10\n",
      "174/174 [==============================] - 184s 1s/step - loss: 1.2307 - accuracy: 0.5427 - val_loss: 1.0151 - val_accuracy: 0.6965\n",
      "Epoch 2/10\n",
      "174/174 [==============================] - 162s 930ms/step - loss: 0.9556 - accuracy: 0.7073 - val_loss: 0.8451 - val_accuracy: 0.7152\n",
      "Epoch 3/10\n",
      "174/174 [==============================] - 155s 889ms/step - loss: 0.8345 - accuracy: 0.7423 - val_loss: 0.7521 - val_accuracy: 0.7448\n",
      "Epoch 4/10\n",
      "174/174 [==============================] - 155s 892ms/step - loss: 0.7756 - accuracy: 0.7499 - val_loss: 0.7128 - val_accuracy: 0.7477\n",
      "Epoch 5/10\n",
      "174/174 [==============================] - 155s 891ms/step - loss: 0.7213 - accuracy: 0.7574 - val_loss: 0.6583 - val_accuracy: 0.7794\n",
      "Epoch 6/10\n",
      "174/174 [==============================] - 156s 894ms/step - loss: 0.6862 - accuracy: 0.7711 - val_loss: 0.6190 - val_accuracy: 0.8010\n",
      "Epoch 7/10\n",
      "174/174 [==============================] - 156s 897ms/step - loss: 0.6691 - accuracy: 0.7760 - val_loss: 0.6102 - val_accuracy: 0.7996\n",
      "Epoch 8/10\n",
      "174/174 [==============================] - 155s 890ms/step - loss: 0.6441 - accuracy: 0.7841 - val_loss: 0.5958 - val_accuracy: 0.7996\n"
     ]
    }
   ],
   "source": [
    "# Train the VGG model\n",
    "vgg_history = vgg_model.fit(\n",
    "    train_gen,\n",
    "    epochs=10,\n",
    "    validation_data=test_gen,\n",
    "    callbacks=[EarlyStopping(monitor='val_accuracy', min_delta=0, patience=2, mode='auto')]\n",
    ")"
   ]
  },
  {
   "cell_type": "code",
   "execution_count": 33,
   "metadata": {},
   "outputs": [
    {
     "name": "stdout",
     "output_type": "stream",
     "text": [
      "CNN Test Accuracy: 81.33%\n",
      "ResNet Test Accuracy: 66.91%\n",
      "VGG Test Accuracy: 79.96%\n"
     ]
    }
   ],
   "source": [
    "# Compare and visualize results\n",
    "cnn_test_results = cnn_model.evaluate(test_gen, verbose=0)\n",
    "resnet_test_results = resnet_model.evaluate(test_gen, verbose=0)\n",
    "vgg_test_results = vgg_model.evaluate(test_gen, verbose=0)\n",
    "\n",
    "print(\"CNN Test Accuracy: {:.2f}%\".format(cnn_test_results[1] * 100))\n",
    "print(\"ResNet Test Accuracy: {:.2f}%\".format(resnet_test_results[1] * 100))\n",
    "print(\"VGG Test Accuracy: {:.2f}%\".format(vgg_test_results[1] * 100))"
   ]
  },
  {
   "cell_type": "code",
   "execution_count": 34,
   "metadata": {},
   "outputs": [
    {
     "name": "stdout",
     "output_type": "stream",
     "text": [
      "The best model is CNN\n",
      "Best Model Test Accuracy: 81.33%\n"
     ]
    }
   ],
   "source": [
    "# Choose the best model based on test accuracy\n",
    "best_model = None\n",
    "best_model_name = \"\"\n",
    "if cnn_test_results[1] >= resnet_test_results[1] and cnn_test_results[1] >= vgg_test_results[1]:\n",
    "    best_model = cnn_model\n",
    "    best_model_name = \"CNN\"\n",
    "elif resnet_test_results[1] >= vgg_test_results[1]:\n",
    "    best_model = resnet_model\n",
    "    best_model_name = \"ResNet\"\n",
    "else:\n",
    "    best_model = vgg_model\n",
    "    best_model_name = \"VGG\"\n",
    "\n",
    "# Print the best model's name\n",
    "print(f\"The best model is {best_model_name}\")\n",
    "\n",
    "# Evaluate and visualize the best model\n",
    "best_test_results = best_model.evaluate(test_gen, verbose=0)\n",
    "print(\"Best Model Test Accuracy: {:.2f}%\".format(best_test_results[1] * 100))"
   ]
  },
  {
   "cell_type": "code",
   "execution_count": null,
   "metadata": {},
   "outputs": [],
   "source": [
    "# # Predict the label of the test_gen using the best model\n",
    "# best_pred = best_model.predict(test_gen)\n",
    "# best_pred = np.argmax(best_pred, axis=1)\n",
    "\n",
    "# # Map the label\n",
    "# labels = label_encoder.classes_\n",
    "# best_pred = [labels[k] for k in best_pred]\n",
    "\n",
    "# y_test = list(test_gen.filenames)\n",
    "# y_test = [label_encoder.transform([y])[0] for y in y_test]\n",
    "# print(classification_report(y_test, best_pred))"
   ]
  },
  {
   "cell_type": "code",
   "execution_count": null,
   "metadata": {},
   "outputs": [],
   "source": [
    "# # Visualize results for the best model\n",
    "# fig, axes = plt.subplots(nrows=5, ncols=2, figsize=(12, 8), subplot_kw={'xticks': [], 'yticks': []})\n",
    "# for i, ax in enumerate(axes.flat):\n",
    "#     ax.imshow(plt.imread(test_gen.filepaths[i]))\n",
    "#     ax.set_title(f\"True: {label_encoder.inverse_transform([y_test[i]])[0]}\\nPredicted: {best_pred[i]}\")\n",
    "# plt.tight_layout()\n",
    "# plt.show()"
   ]
  }
 ],
 "metadata": {
  "kernelspec": {
   "display_name": "Python 3",
   "language": "python",
   "name": "python3"
  },
  "language_info": {
   "codemirror_mode": {
    "name": "ipython",
    "version": 3
   },
   "file_extension": ".py",
   "mimetype": "text/x-python",
   "name": "python",
   "nbconvert_exporter": "python",
   "pygments_lexer": "ipython3",
   "version": "3.8.4"
  }
 },
 "nbformat": 4,
 "nbformat_minor": 2
}
